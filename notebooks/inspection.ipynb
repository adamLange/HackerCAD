{
 "cells": [
  {
   "cell_type": "code",
   "execution_count": 25,
   "metadata": {},
   "outputs": [],
   "source": [
    "from OCC.Core.BRepTools import breptools_Read\n",
    "from OCC.Core.TopoDS import *\n",
    "from OCC.Core.BRep import BRep_Builder\n",
    "from OCC.Core.gp import *\n",
    "from OCC.Core.BRepBuilderAPI import *\n",
    "from math import pi,degrees,radians\n",
    "from OCC.Core.BRepTools import breptools_Write\n",
    "import OCCUtils\n",
    "import OCCUtils.edge\n",
    "import numpy as np"
   ]
  },
  {
   "cell_type": "code",
   "execution_count": 2,
   "metadata": {},
   "outputs": [],
   "source": [
    "from OCC.Display.WebGl.jupyter_renderer import JupyterRenderer"
   ]
  },
  {
   "cell_type": "code",
   "execution_count": 3,
   "metadata": {},
   "outputs": [],
   "source": [
    "work_dir = \"/home/adam/projects/aluminum_burner/pass_through/hackerCAD/nut_inspection/\""
   ]
  },
  {
   "cell_type": "code",
   "execution_count": 4,
   "metadata": {},
   "outputs": [],
   "source": [
    "nut = TopoDS_Shape()\n",
    "builder = BRep_Builder()\n",
    "assert breptools_Read(nut, '/home/adam/projects/aluminum_burner/pass_through/nut.brep', builder)"
   ]
  },
  {
   "cell_type": "code",
   "execution_count": 5,
   "metadata": {},
   "outputs": [],
   "source": [
    "trsf = gp_Trsf()\n",
    "trsf.SetRotation(gp_Ax1(gp_Pnt(0,0,0),gp_Dir(1,0,0)),-pi/2)"
   ]
  },
  {
   "cell_type": "code",
   "execution_count": 6,
   "metadata": {},
   "outputs": [],
   "source": [
    "mt = BRepBuilderAPI_Transform(nut,trsf)\n",
    "nut = mt.Shape()"
   ]
  },
  {
   "cell_type": "code",
   "execution_count": 89,
   "metadata": {},
   "outputs": [],
   "source": [
    "my_renderer = JupyterRenderer()"
   ]
  },
  {
   "cell_type": "code",
   "execution_count": 90,
   "metadata": {},
   "outputs": [],
   "source": [
    "my_renderer.DisplayShape(nut, render_edges=False)"
   ]
  },
  {
   "cell_type": "code",
   "execution_count": 91,
   "metadata": {
    "collapsed": true,
    "jupyter": {
     "outputs_hidden": true
    }
   },
   "outputs": [
    {
     "data": {
      "application/vnd.jupyter.widget-view+json": {
       "model_id": "288e4d03dbe5467db48116cb26c3ea0e",
       "version_major": 2,
       "version_minor": 0
      },
      "text/plain": [
       "HBox(children=(VBox(children=(HBox(children=(Checkbox(value=True, description='Axes', layout=Layout(height='au…"
      ]
     },
     "metadata": {},
     "output_type": "display_data"
    },
    {
     "data": {
      "text/plain": []
     },
     "execution_count": 91,
     "metadata": {},
     "output_type": "execute_result"
    }
   ],
   "source": [
    "my_renderer"
   ]
  },
  {
   "cell_type": "code",
   "execution_count": 9,
   "metadata": {},
   "outputs": [],
   "source": [
    "import OCCUtils"
   ]
  },
  {
   "cell_type": "code",
   "execution_count": 92,
   "metadata": {},
   "outputs": [],
   "source": [
    "for edge in OCCUtils.Topo(nut).edges():\n",
    "    a = my_renderer.DisplayShape(edge)"
   ]
  },
  {
   "cell_type": "code",
   "execution_count": 93,
   "metadata": {},
   "outputs": [],
   "source": [
    "# select the nut in the view\n",
    "nut_gui = my_renderer.clicked_obj"
   ]
  },
  {
   "cell_type": "code",
   "execution_count": 94,
   "metadata": {},
   "outputs": [],
   "source": [
    "nut_gui.visible = False"
   ]
  },
  {
   "cell_type": "code",
   "execution_count": null,
   "metadata": {},
   "outputs": [],
   "source": [
    "# get outer edge on top surface\n",
    "edge_gui = my_renderer.clicked_obj"
   ]
  },
  {
   "cell_type": "code",
   "execution_count": null,
   "metadata": {},
   "outputs": [],
   "source": [
    "edge = my_renderer.GetSelectedShape()"
   ]
  },
  {
   "cell_type": "code",
   "execution_count": null,
   "metadata": {},
   "outputs": [],
   "source": [
    "import OCCUtils.edge"
   ]
  },
  {
   "cell_type": "code",
   "execution_count": null,
   "metadata": {},
   "outputs": [],
   "source": [
    "e = OCCUtils.edge.Edge(edge)"
   ]
  },
  {
   "cell_type": "code",
   "execution_count": null,
   "metadata": {},
   "outputs": [],
   "source": [
    "circ = e.adaptor.Circle()"
   ]
  },
  {
   "cell_type": "code",
   "execution_count": null,
   "metadata": {},
   "outputs": [],
   "source": [
    "r = circ.Radius()"
   ]
  },
  {
   "cell_type": "code",
   "execution_count": null,
   "metadata": {},
   "outputs": [],
   "source": [
    "# select inner edge on top surface in gui\n",
    "edge2 = my_renderer.GetSelectedShape()"
   ]
  },
  {
   "cell_type": "code",
   "execution_count": null,
   "metadata": {},
   "outputs": [],
   "source": [
    "e2 = OCCUtils.edge.Edge(edge2)"
   ]
  },
  {
   "cell_type": "code",
   "execution_count": null,
   "metadata": {},
   "outputs": [],
   "source": [
    "circ2 = e2.adaptor.Circle()"
   ]
  },
  {
   "cell_type": "code",
   "execution_count": null,
   "metadata": {},
   "outputs": [],
   "source": [
    "r2 = circ2.Radius()"
   ]
  },
  {
   "cell_type": "code",
   "execution_count": null,
   "metadata": {},
   "outputs": [],
   "source": [
    "(r + r2) / 2"
   ]
  },
  {
   "cell_type": "code",
   "execution_count": null,
   "metadata": {},
   "outputs": [],
   "source": [
    "# use r=10 mm for top probing "
   ]
  },
  {
   "cell_type": "code",
   "execution_count": null,
   "metadata": {},
   "outputs": [],
   "source": [
    "ax1 = circ.Axis()"
   ]
  },
  {
   "cell_type": "code",
   "execution_count": null,
   "metadata": {},
   "outputs": [],
   "source": [
    "ax_new = gp_Ax2(ax1.Location(),ax1.Direction(),gp_Dir(1,0,0))"
   ]
  },
  {
   "cell_type": "code",
   "execution_count": null,
   "metadata": {},
   "outputs": [],
   "source": [
    "circ_new = gp_Circ(ax_new,10)"
   ]
  },
  {
   "cell_type": "code",
   "execution_count": null,
   "metadata": {},
   "outputs": [],
   "source": [
    "me = BRepBuilderAPI_MakeEdge(circ_new,0,2*pi)\n",
    "edge_for_probe_points = me.Edge()"
   ]
  },
  {
   "cell_type": "code",
   "execution_count": null,
   "metadata": {},
   "outputs": [],
   "source": [
    "my_renderer.DisplayShape(edge_for_probe_points)"
   ]
  },
  {
   "cell_type": "code",
   "execution_count": null,
   "metadata": {},
   "outputs": [],
   "source": [
    "def makeProbePath(pnt):\n",
    "    p_start = gp_Pnt(pnt.X(),pnt.Y()+1+2,pnt.Z())\n",
    "    p_end   = gp_Pnt(pnt.X(),pnt.Y()+1-0.5,pnt.Z())\n",
    "    me = OCC.Core.BRepBuilderAPI.BRepBuilderAPI_MakeEdge(p_start,p_end)\n",
    "    return me.Edge()"
   ]
  },
  {
   "cell_type": "code",
   "execution_count": null,
   "metadata": {},
   "outputs": [],
   "source": [
    "e = OCCUtils.edge.Edge(edge_for_probe_points)"
   ]
  },
  {
   "cell_type": "code",
   "execution_count": null,
   "metadata": {},
   "outputs": [],
   "source": [
    "curve = e.adaptor.Curve()"
   ]
  },
  {
   "cell_type": "code",
   "execution_count": null,
   "metadata": {},
   "outputs": [],
   "source": [
    "import numpy as np"
   ]
  },
  {
   "cell_type": "code",
   "execution_count": null,
   "metadata": {},
   "outputs": [],
   "source": [
    "edges = []\n",
    "n_points = 10\n",
    "delta = 2*pi / n_points\n",
    "for i in np.linspace(0,2*pi-delta,n_points):\n",
    "    pnt = curve.Value(i)\n",
    "    edge = makeProbePath(pnt)\n",
    "    edges.append(edge)\n",
    "    my_renderer.DisplayShape(edge)"
   ]
  },
  {
   "cell_type": "code",
   "execution_count": null,
   "metadata": {
    "scrolled": true
   },
   "outputs": [],
   "source": [
    "help(my_renderer.axes)"
   ]
  },
  {
   "cell_type": "code",
   "execution_count": null,
   "metadata": {},
   "outputs": [],
   "source": [
    "circ.Axis()"
   ]
  },
  {
   "cell_type": "code",
   "execution_count": null,
   "metadata": {},
   "outputs": [],
   "source": [
    "my_renderer"
   ]
  },
  {
   "cell_type": "code",
   "execution_count": 34,
   "metadata": {},
   "outputs": [],
   "source": [
    "import ModelIKa"
   ]
  },
  {
   "cell_type": "code",
   "execution_count": 44,
   "metadata": {},
   "outputs": [],
   "source": [
    "client = ModelIKa.IKClient('127.0.0.1',8826)"
   ]
  },
  {
   "cell_type": "code",
   "execution_count": 36,
   "metadata": {},
   "outputs": [],
   "source": [
    "def solve(v_tip,v_orientation):\n",
    "    v_tip_meters = v_tip * 1e-3\n",
    "    v_shank_tip = v_orientation.Normalized() * (0.500+1e-8)\n",
    "    tup_tip = (v_tip_meters.X(), v_tip_meters.Y(),v_tip_meters.Z())\n",
    "    tup_shank_tip = v_shank_tip.X(),v_shank_tip.Y(),v_shank_tip.Z()\n",
    "    x,y,z,a,b = client.solve((*tup_tip,*tup_shank_tip),1e-6,False)\n",
    "    return x*1e3,y*1e3,z*1e3,a,b"
   ]
  },
  {
   "cell_type": "code",
   "execution_count": null,
   "metadata": {},
   "outputs": [],
   "source": [
    "solve(gp_Vec(1.0,1.0,0),gp_Vec(0,1,0))"
   ]
  },
  {
   "cell_type": "code",
   "execution_count": 65,
   "metadata": {},
   "outputs": [],
   "source": [
    "gcode = \"\"\n",
    "v_tip_to_shank = gp_Vec(0,1,0.0)\n",
    "for probe_edge in edges:\n",
    "    e = OCCUtils.edge.Edge(probe_edge)\n",
    "    curve = e.adaptor.Curve()\n",
    "    pnt_0 = curve.Value(curve.FirstParameter())\n",
    "    pnt_1 = curve.Value(curve.LastParameter())\n",
    "    x_0,y_0,z_0,a_0,b_0 = solve(gp_Vec(pnt_0.XYZ()),v_tip_to_shank)\n",
    "    gcode += \"G01 X{:.6f} Y{:.6f} Z{:.6f} A{:.6f} B{:.6f}\\n\".format(x_0,y_0,z_0,a_0,b_0)\n",
    "    x_1,y_1,z_1,a_1,b_1 = solve(gp_Vec(pnt_1.XYZ()),v_tip_to_shank)\n",
    "    gcode += \"G01 X{:.6f} Y{:.6f} Z{:.6f} A{:.6f} B{:.6f}\\n\".format(x_1,y_1,z_1,a_1,b_1)\n",
    "    gcode += \"G01 X{:.6f} Y{:.6f} Z{:.6f} A{:.6f} B{:.6f}\\n\".format(x_0,y_0,z_0,a_0,b_0)"
   ]
  },
  {
   "cell_type": "code",
   "execution_count": 66,
   "metadata": {
    "scrolled": true
   },
   "outputs": [
    {
     "name": "stdout",
     "output_type": "stream",
     "text": [
      "G01 X-6.177514 Y-0.119701 Z27.631005 A90.000005 B1.109386\n",
      "G01 X-7.619880 Y-0.147534 Z27.631005 A89.999995 B1.109386\n",
      "G01 X-6.177514 Y-0.119701 Z27.631005 A90.000005 B1.109386\n",
      "G01 X-5.041171 Y3.522629 Z27.631013 A90.000117 B1.125250\n",
      "G01 X-6.262511 Y4.365368 Z27.631013 A90.000099 B1.125236\n",
      "G01 X-5.041171 Y3.522629 Z27.631013 A90.000117 B1.125250\n",
      "G01 X-2.017898 Y5.809565 Z27.631012 A90.000070 B1.141042\n",
      "G01 X-2.504904 Y7.219255 Z27.631021 A90.000121 B1.141078\n",
      "G01 X-2.017898 Y5.809565 Z27.631012 A90.000070 B1.141042\n",
      "G01 X1.780727 Y5.887140 Z27.630998 A89.999931 B1.156857\n",
      "G01 X2.215336 Y7.313954 Z27.631021 A90.000122 B1.156895\n",
      "G01 X1.780727 Y5.887140 Z27.630998 A89.999931 B1.156857\n",
      "G01 X4.905366 Y3.710141 Z27.630997 A89.999883 B1.172717\n",
      "G01 X6.085312 Y4.612849 Z27.631014 A90.000106 B1.172705\n",
      "G01 X4.905366 Y3.710141 Z27.630997 A89.999883 B1.172717\n",
      "G01 X6.149001 Y0.117926 Z27.631005 A89.999875 B1.188562\n",
      "G01 X7.620219 Y0.156807 Z27.631005 A90.000013 B1.188538\n",
      "G01 X6.149001 Y0.117926 Z27.631005 A89.999875 B1.188562\n",
      "G01 X5.046016 Y-3.515667 Z27.631013 A89.999883 B1.204396\n",
      "G01 X6.268505 Y-4.356693 Z27.631013 A89.999901 B1.204383\n",
      "G01 X5.046016 Y-3.515667 Z27.631013 A89.999883 B1.204396\n",
      "G01 X2.025895 Y-5.806780 Z27.631012 A89.999930 B1.220189\n",
      "G01 X2.514873 Y-7.215782 Z27.631021 A89.999879 B1.220224\n",
      "G01 X2.025895 Y-5.806780 Z27.631012 A89.999930 B1.220189\n",
      "G01 X-1.772561 Y-5.889603 Z27.630998 A90.000069 B1.236004\n",
      "G01 X-2.205231 Y-7.317010 Z27.631021 A89.999878 B1.236041\n",
      "G01 X-1.772561 Y-5.889603 Z27.630998 A90.000069 B1.236004\n",
      "G01 X-4.900230 Y-3.716923 Z27.630997 A90.000117 B1.251864\n",
      "G01 X-6.078951 Y-4.621265 Z27.631014 A89.999894 B1.251851\n",
      "G01 X-4.900230 Y-3.716923 Z27.630997 A90.000117 B1.251864\n",
      "G01 X-4.394516 Y-0.085293 Z22.617462 A90.000105 B1.263223\n",
      "G01 X-5.870478 Y-0.128284 Z22.629782 A89.999987 B1.263192\n",
      "G01 X-4.394516 Y-0.085293 Z22.617462 A90.000105 B1.263223\n",
      "G01 X-3.615607 Y2.507380 Z22.631027 A90.000113 B1.271930\n",
      "G01 X-4.835267 Y3.352254 Z22.631011 A90.000098 B1.271935\n",
      "G01 X-3.615607 Y2.507380 Z22.631027 A90.000113 B1.271930\n",
      "G01 X-1.462398 Y4.151158 Z22.631009 A90.000051 B1.280627\n",
      "G01 X-1.944564 Y5.561097 Z22.631017 A90.000120 B1.280673\n",
      "G01 X-1.462398 Y4.151158 Z22.631009 A90.000051 B1.280627\n",
      "G01 X1.260083 Y4.216983 Z22.630999 A89.999918 B1.289363\n",
      "G01 X1.695070 Y5.642769 Z22.631017 A90.000121 B1.289396\n",
      "G01 X1.260083 Y4.216983 Z22.630999 A89.999918 B1.289363\n",
      "G01 X3.501941 Y2.664197 Z22.630999 A89.999882 B1.298119\n",
      "G01 X4.682816 Y3.565635 Z22.631012 A90.000105 B1.298119\n",
      "G01 X3.501941 Y2.664197 Z22.630999 A89.999882 B1.298119\n",
      "G01 X4.398683 Y0.096196 Z22.631005 A89.999877 B1.306865\n",
      "G01 X5.870317 Y0.132749 Z22.631005 A90.000012 B1.306859\n",
      "G01 X4.398683 Y0.096196 Z22.631005 A89.999877 B1.306865\n",
      "G01 X3.617513 Y-2.504630 Z22.631010 A89.999887 B1.315596\n",
      "G01 X4.837791 Y-3.348549 Z22.631011 A89.999902 B1.315601\n",
      "G01 X3.617513 Y-2.504630 Z22.631010 A89.999887 B1.315596\n",
      "G01 X1.465562 Y-4.150042 Z22.631009 A89.999949 B1.324293\n",
      "G01 X1.948802 Y-5.559613 Z22.631017 A89.999880 B1.324339\n",
      "G01 X1.465562 Y-4.150042 Z22.631009 A89.999949 B1.324293\n",
      "G01 X-1.256860 Y-4.217946 Z22.630999 A90.000081 B1.333030\n",
      "G01 X-1.690769 Y-5.644062 Z22.631017 A89.999879 B1.333063\n",
      "G01 X-1.256860 Y-4.217946 Z22.630999 A90.000081 B1.333030\n",
      "G01 X-3.499907 Y-2.666869 Z22.630999 A90.000118 B1.341785\n",
      "G01 X-4.680103 Y-3.569208 Z22.631012 A89.999895 B1.341786\n",
      "G01 X-3.499907 Y-2.666869 Z22.630999 A90.000118 B1.341785\n",
      "G01 X-9.662702 Y-0.219331 Z31.658628 A90.000068 B1.360965\n",
      "G01 X-9.648254 Y-0.228501 Z30.156546 A89.999995 B1.360939\n",
      "G01 X-9.662702 Y-0.219331 Z31.658628 A90.000068 B1.360965\n",
      "G01 X-7.937553 Y5.496832 Z31.635045 A90.000123 B1.392338\n",
      "G01 X-7.942157 Y5.482021 Z30.156816 A89.999997 B1.392302\n",
      "G01 X-7.937553 Y5.496832 Z31.635045 A90.000123 B1.392338\n",
      "G01 X-3.198723 Y9.108227 Z31.633904 A90.000103 B1.423676\n",
      "G01 X-3.207888 Y9.101696 Z30.156850 A90.000003 B1.423680\n",
      "G01 X-3.198723 Y9.108227 Z31.633904 A90.000103 B1.423676\n",
      "G01 X2.752398 Y9.250533 Z31.631588 A90.000004 B1.454944\n",
      "G01 X2.749972 Y9.250460 Z30.156821 A90.000009 B1.455021\n",
      "G01 X2.752398 Y9.250533 Z31.631588 A90.000004 B1.454944\n",
      "G01 X7.667651 Y5.866041 Z31.633755 A89.999898 B1.486309\n",
      "G01 X7.658553 Y5.871774 Z30.156731 A90.000012 B1.486315\n",
      "G01 X7.667651 Y5.866041 Z31.633755 A89.999898 B1.486309\n",
      "G01 X9.652380 Y0.239866 Z31.635007 A89.999877 B1.517659\n",
      "G01 X9.647052 Y0.254301 Z30.156762 A90.000009 B1.517623\n",
      "G01 X9.652380 Y0.239866 Z31.635007 A89.999877 B1.517659\n",
      "G01 X7.952563 Y-5.475099 Z31.635045 A89.999877 B1.549017\n",
      "G01 X7.957119 Y-5.460282 Z30.156819 A90.000003 B1.548981\n",
      "G01 X7.952563 Y-5.475099 Z31.635045 A89.999877 B1.549017\n",
      "G01 X3.223593 Y-9.099465 Z31.633913 A89.999896 B1.580356\n",
      "G01 X3.232767 Y-9.092889 Z30.156845 A89.999997 B1.580360\n",
      "G01 X3.223593 Y-9.099465 Z31.633913 A89.999896 B1.580356\n",
      "G01 X-2.727082 Y-9.258022 Z31.631586 A89.999995 B1.611624\n",
      "G01 X-2.724665 Y-9.257946 Z30.156822 A89.999991 B1.611701\n",
      "G01 X-2.727082 Y-9.258022 Z31.631586 A89.999995 B1.611624\n",
      "G01 X-7.651554 Y-5.887006 Z31.633745 A90.000102 B1.642989\n",
      "G01 X-7.642469 Y-5.892694 Z30.156738 A89.999988 B1.642996\n",
      "G01 X-7.651554 Y-5.887006 Z31.633745 A90.000102 B1.642989\n",
      "G01 X-14.013503 Y-0.396082 Z27.623007 A90.000107 B1.688410\n",
      "G01 X-12.522741 Y-0.367894 Z27.630475 A89.999999 B1.688372\n",
      "G01 X-14.013503 Y-0.396082 Z27.623007 A90.000107 B1.688410\n",
      "G01 X-11.568411 Y7.907730 Z27.631028 A90.000126 B1.747335\n",
      "G01 X-10.343446 Y7.044888 Z27.630992 A89.999896 B1.747236\n",
      "G01 X-11.568411 Y7.907730 Z27.631028 A90.000126 B1.747335\n",
      "G01 X-4.725885 Y13.190615 Z27.631033 A90.000115 B1.806221\n",
      "G01 X-4.237378 Y11.768395 Z27.630979 A89.999878 B1.806157\n",
      "G01 X-4.725885 Y13.190615 Z27.631033 A90.000115 B1.806221\n",
      "G01 X3.908104 Y13.451727 Z27.631017 A90.000051 B1.864987\n",
      "G01 X3.476807 Y12.015305 Z27.630979 A89.999878 B1.865032\n",
      "G01 X3.908104 Y13.451727 Z27.631017 A90.000051 B1.864987\n",
      "G01 X11.062804 Y8.596144 Z27.630992 A89.999916 B1.923800\n",
      "G01 X9.872917 Y7.691379 Z27.630991 A89.999898 B1.923809\n",
      "G01 X11.062804 Y8.596144 Z27.630992 A89.999916 B1.923800\n",
      "G01 X14.005148 Y0.460940 Z27.631004 A89.999879 B1.982646\n",
      "G01 X12.520760 Y0.431922 Z27.631005 A90.000001 B1.982572\n",
      "G01 X14.005148 Y0.460940 Z27.631004 A89.999879 B1.982646\n",
      "G01 X11.608865 Y-7.848221 Z27.631023 A89.999874 B2.041532\n",
      "G01 X10.379560 Y-6.991741 Z27.630992 A90.000103 B2.041433\n",
      "G01 X11.608865 Y-7.848221 Z27.631023 A89.999874 B2.041532\n",
      "G01 X4.793536 Y-13.166195 Z27.631033 A89.999885 B2.100418\n",
      "G01 X4.297753 Y-11.746500 Z27.630979 A90.000122 B2.100354\n",
      "G01 X4.793536 Y-13.166195 Z27.631033 A89.999885 B2.100418\n",
      "G01 X-3.839049 Y-13.471627 Z27.631018 A89.999948 B2.159185\n",
      "G01 X-3.415060 Y-12.032980 Z27.630979 A90.000122 B2.159230\n",
      "G01 X-3.839049 Y-13.471627 Z27.631018 A89.999948 B2.159185\n",
      "G01 X-11.018446 Y-8.652865 Z27.630992 A90.000083 B2.217997\n",
      "G01 X-9.833210 Y-7.741909 Z27.630991 A90.000102 B2.218007\n",
      "G01 X-11.018446 Y-8.652865 Z27.630992 A90.000083 B2.217997\n",
      "\n"
     ]
    }
   ],
   "source": [
    "print(gcode)"
   ]
  },
  {
   "cell_type": "code",
   "execution_count": 67,
   "metadata": {},
   "outputs": [],
   "source": [
    "preamble = \"\"\n",
    "preamble += \"G54 G21\\n\"\n",
    "preamble += \"M6 T1 G43 H1\\n\"\n",
    "preamble += \"\\n\"\n",
    "preamble += \"\\n\"\n",
    "preamble += \"\\n\""
   ]
  },
  {
   "cell_type": "code",
   "execution_count": 68,
   "metadata": {},
   "outputs": [],
   "source": [
    "postamble = \"\\n\\n\"\n",
    "postamble += \"M2\\n\""
   ]
  },
  {
   "cell_type": "code",
   "execution_count": 69,
   "metadata": {},
   "outputs": [],
   "source": [
    "f = open(\"/tmp/bla.ngc\",\"w\")\n",
    "f.write(preamble)\n",
    "f.write(gcode)\n",
    "f.write(postamble)\n",
    "f.close()"
   ]
  },
  {
   "cell_type": "code",
   "execution_count": null,
   "metadata": {},
   "outputs": [],
   "source": [
    "# select edge to create inspection points from\n",
    "my_renderer.GetSelectedShape()"
   ]
  },
  {
   "cell_type": "code",
   "execution_count": null,
   "metadata": {},
   "outputs": [],
   "source": [
    "nut_gui.material.wireframe = False"
   ]
  },
  {
   "cell_type": "code",
   "execution_count": null,
   "metadata": {},
   "outputs": [],
   "source": []
  },
  {
   "cell_type": "code",
   "execution_count": null,
   "metadata": {},
   "outputs": [],
   "source": [
    "comp = TopoDS_Compound()\n",
    "builder.MakeCompound(comp)\n",
    "for e in edges:\n",
    "    builder.Add(comp,e)"
   ]
  },
  {
   "cell_type": "code",
   "execution_count": null,
   "metadata": {},
   "outputs": [],
   "source": [
    "breptools_Write(comp,\"axial_probe_paths.brep\")"
   ]
  },
  {
   "cell_type": "code",
   "execution_count": 26,
   "metadata": {},
   "outputs": [],
   "source": [
    "# create probe paths from circular edge\n",
    "\n",
    "class ProbePathsFromCircularEdge:\n",
    "    \n",
    "    def __init__(self,edge=None):\n",
    "        \n",
    "        self.axial_offset_0 = 3\n",
    "        self.axial_offset_1 = 3\n",
    "        self.radial_offset_0 = -0.5\n",
    "        self.radial_offset_1 = -2\n",
    "        \n",
    "        self.n_points = 10\n",
    "        \n",
    "        if edge:\n",
    "            self.set_edge(edge)\n",
    "        \n",
    "    def set_edge(self,edge):\n",
    "\n",
    "        self.edge = edge\n",
    "\n",
    "        self.e = OCCUtils.edge.Edge(edge)\n",
    "\n",
    "        self.curve = self.e.curve\n",
    "\n",
    "        self.circ = self.e.adaptor.Circle()\n",
    "        self.axis = self.circ.Axis()\n",
    "        self.v_axis = gp_Vec(self.axis.Direction().XYZ())\n",
    "\n",
    "        self.center_point = self.circ.Position().Location()\n",
    "        self.v_center = gp_Vec(self.center_point.XYZ())\n",
    "\n",
    "    def compute(self):\n",
    "        \n",
    "        edges = []\n",
    "        \n",
    "        delta = 2*pi / self.n_points\n",
    "        \n",
    "        for i in np.linspace(0,2*pi-delta,self.n_points):\n",
    "            pnt_on_edge = self.curve.Value(i)\n",
    "            v_on_edge = gp_Vec(pnt_on_edge.XYZ())\n",
    "\n",
    "            v_radial = (v_on_edge - self.v_center).Normalized()\n",
    "\n",
    "            #start point\n",
    "            v_start = v_on_edge + self.v_axis*self.axial_offset_0 + v_radial*self.radial_offset_0\n",
    "\n",
    "            #end point\n",
    "            v_end = v_on_edge + self.v_axis*self.axial_offset_1 + v_radial*self.radial_offset_1\n",
    "\n",
    "            me = BRepBuilderAPI_MakeEdge(gp_Pnt(v_start.XYZ()),\n",
    "                                         gp_Pnt(v_end.XYZ()))\n",
    "            edge = me.Edge()\n",
    "            edges.append(edge)\n",
    "        return edges"
   ]
  },
  {
   "cell_type": "code",
   "execution_count": 120,
   "metadata": {},
   "outputs": [],
   "source": [
    "edges = []"
   ]
  },
  {
   "cell_type": "code",
   "execution_count": 121,
   "metadata": {},
   "outputs": [],
   "source": [
    "# select the inner edge of the axial face\n",
    "pp = ProbePathsFromCircularEdge(my_renderer.GetSelectedShape())\n",
    "pp.axial_offset_0 = 2\n",
    "pp.axial_offset_1 = 2\n",
    "pp.radial_offset_0 = -3\n",
    "pp.radial_offset_1 = -0.5\n",
    "id_edges_0 = pp.compute()\n",
    "edges.extend(id_edges_0)"
   ]
  },
  {
   "cell_type": "code",
   "execution_count": 122,
   "metadata": {},
   "outputs": [
    {
     "data": {
      "text/plain": [
       "True"
      ]
     },
     "execution_count": 122,
     "metadata": {},
     "output_type": "execute_result"
    }
   ],
   "source": [
    "comp = TopoDS_Compound()\n",
    "builder.MakeCompound(comp)\n",
    "for i in id_edges_0:\n",
    "    builder.Add(comp,i)\n",
    "breptools_Write(comp,work_dir+\"id_edges_0.brep\")"
   ]
  },
  {
   "cell_type": "code",
   "execution_count": 123,
   "metadata": {},
   "outputs": [],
   "source": [
    "# select the inner edge of the second axial face\n",
    "pp = ProbePathsFromCircularEdge(my_renderer.GetSelectedShape())\n",
    "pp.axial_offset_0 = 2\n",
    "pp.axial_offset_1 = 2\n",
    "pp.radial_offset_0 = -3\n",
    "pp.radial_offset_1 = -0.5\n",
    "id_edges_1 = pp.compute()\n",
    "edges.extend(id_edges_1)"
   ]
  },
  {
   "cell_type": "code",
   "execution_count": 124,
   "metadata": {},
   "outputs": [
    {
     "data": {
      "text/plain": [
       "True"
      ]
     },
     "execution_count": 124,
     "metadata": {},
     "output_type": "execute_result"
    }
   ],
   "source": [
    "comp = TopoDS_Compound()\n",
    "builder.MakeCompound(comp)\n",
    "for i in id_edges_1:\n",
    "    builder.Add(comp,i)\n",
    "breptools_Write(comp,work_dir+\"id_edges_1.brep\")"
   ]
  },
  {
   "cell_type": "code",
   "execution_count": 125,
   "metadata": {},
   "outputs": [],
   "source": [
    "# select the inner edge of the axial face\n",
    "pp = ProbePathsFromCircularEdge(my_renderer.GetSelectedShape())\n",
    "pp.axial_offset_0 = -3\n",
    "pp.axial_offset_1 = -0.5\n",
    "pp.radial_offset_0 = 1.5\n",
    "pp.radial_offset_1 = 1.5\n",
    "axial_edges = pp.compute()\n",
    "edges.extend(axial_edges)"
   ]
  },
  {
   "cell_type": "code",
   "execution_count": 126,
   "metadata": {},
   "outputs": [
    {
     "data": {
      "text/plain": [
       "True"
      ]
     },
     "execution_count": 126,
     "metadata": {},
     "output_type": "execute_result"
    }
   ],
   "source": [
    "comp = TopoDS_Compound()\n",
    "builder.MakeCompound(comp)\n",
    "for i in axial_edges:\n",
    "    builder.Add(comp,i)\n",
    "breptools_Write(comp,work_dir+\"axial_edges.brep\")"
   ]
  },
  {
   "cell_type": "code",
   "execution_count": 127,
   "metadata": {},
   "outputs": [],
   "source": [
    "# select the outer edge of the first axial face\n",
    "pp = ProbePathsFromCircularEdge(my_renderer.GetSelectedShape())\n",
    "pp.axial_offset_0 = 2\n",
    "pp.axial_offset_1 = 2\n",
    "pp.radial_offset_0 = 3\n",
    "pp.radial_offset_1 = 0.5\n",
    "od_edges_0 = pp.compute()\n",
    "edges.extend(od_edges_0)"
   ]
  },
  {
   "cell_type": "code",
   "execution_count": 128,
   "metadata": {},
   "outputs": [
    {
     "data": {
      "text/plain": [
       "True"
      ]
     },
     "execution_count": 128,
     "metadata": {},
     "output_type": "execute_result"
    }
   ],
   "source": [
    "comp = TopoDS_Compound()\n",
    "builder.MakeCompound(comp)\n",
    "for i in od_edges_0:\n",
    "    builder.Add(comp,i)\n",
    "breptools_Write(comp,work_dir+\"od_edges_0.brep\")"
   ]
  },
  {
   "cell_type": "code",
   "execution_count": 130,
   "metadata": {},
   "outputs": [],
   "source": [
    "for edge in edges:\n",
    "    my_renderer.DisplayShape(edge)"
   ]
  },
  {
   "cell_type": "code",
   "execution_count": 134,
   "metadata": {},
   "outputs": [],
   "source": [
    "def probe_edges(edges,v_tip_to_shank):\n",
    "    gcode = \"\"\n",
    "    for probe_edge in edges:\n",
    "        e = OCCUtils.edge.Edge(probe_edge)\n",
    "        curve = e.adaptor.Curve()\n",
    "        pnt_0 = curve.Value(curve.FirstParameter())\n",
    "        pnt_1 = curve.Value(curve.LastParameter())\n",
    "        x_0,y_0,z_0,a_0,b_0 = solve(gp_Vec(pnt_0.XYZ()),v_tip_to_shank)\n",
    "        gcode += \"G01 X{:.6f} Y{:.6f} Z{:.6f} A{:.6f} B{:.6f} F100\\n\".format(x_0,y_0,z_0,a_0,b_0)\n",
    "        x_1,y_1,z_1,a_1,b_1 = solve(gp_Vec(pnt_1.XYZ()),v_tip_to_shank)\n",
    "        gcode += \"G38.2 X{:.6f} Y{:.6f} Z{:.6f} A{:.6f} B{:.6f} F60\\n\".format(x_1,y_1,z_1,a_1,b_1)\n",
    "        gcode += \"G01 X{:.6f} Y{:.6f} Z{:.6f} A{:.6f} B{:.6f} F200\\n\".format(x_0,y_0,z_0,a_0,b_0)\n",
    "    return gcode"
   ]
  },
  {
   "cell_type": "code",
   "execution_count": 135,
   "metadata": {},
   "outputs": [],
   "source": [
    "gcode = \"\"\n",
    "gcode += \"G54 G21\\n\"\n",
    "gcode += \"M6 T1 G43 H1\\n\"\n",
    "\n",
    "\n",
    "gcode += \"G90 G0 A90 B0\\n\"\n",
    "gcode += \"G53 G90 G0 Z0\\n\"\n",
    "gcode += \"G0 X0 Y0\\n\"\n",
    "gcode += \"G0 Z27.63\\n\"\n",
    "\n",
    "v_tip_to_shank = gp_Vec(0,1,0)\n",
    "gcode += probe_edges(id_edges_0,v_tip_to_shank)\n",
    "\n",
    "gcode += \"G01 X0 Y0\\n\"\n",
    "gcode += \"G01 Z22.617\\n\"\n",
    "\n",
    "gcode += probe_edges(id_edges_1,v_tip_to_shank)\n",
    "\n",
    "gcode += \"G01 X0 Y0\\n\"\n",
    "gcode += \"G01 Z31.65\\n\"\n",
    "\n",
    "gcode += probe_edges(axial_edges,v_tip_to_shank)\n",
    "\n",
    "gcode += \"G01 X-14.01 Y-0.396\\n\"\n",
    "\n",
    "gcode += probe_edges(od_edges_0,v_tip_to_shank)\n",
    "\n",
    "gcode += \"G53 G90 G0 Z0\\n\"\n",
    "gcode += \"M2\\n\"\n"
   ]
  },
  {
   "cell_type": "code",
   "execution_count": 136,
   "metadata": {},
   "outputs": [],
   "source": [
    "f = open(\"/tmp/bla1.ngc\",\"w\")\n",
    "f.write(gcode)\n",
    "f.close()"
   ]
  },
  {
   "cell_type": "code",
   "execution_count": null,
   "metadata": {},
   "outputs": [],
   "source": []
  }
 ],
 "metadata": {
  "kernelspec": {
   "display_name": "Python 3",
   "language": "python",
   "name": "python3"
  },
  "language_info": {
   "codemirror_mode": {
    "name": "ipython",
    "version": 3
   },
   "file_extension": ".py",
   "mimetype": "text/x-python",
   "name": "python",
   "nbconvert_exporter": "python",
   "pygments_lexer": "ipython3",
   "version": "3.6.9"
  }
 },
 "nbformat": 4,
 "nbformat_minor": 4
}
