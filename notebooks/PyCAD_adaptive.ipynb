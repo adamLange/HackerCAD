{
 "cells": [
  {
   "cell_type": "code",
   "execution_count": 101,
   "metadata": {},
   "outputs": [],
   "source": [
    "import geom\n",
    "import numpy as np\n",
    "from math import pi, cos, sin\n",
    "import OCC\n",
    "from OCC.Core.gp import *\n",
    "from OCC.Core.BRepBuilderAPI import *"
   ]
  },
  {
   "cell_type": "code",
   "execution_count": 102,
   "metadata": {},
   "outputs": [],
   "source": [
    "from OCC.Display.WebGl.jupyter_renderer import JupyterRenderer"
   ]
  },
  {
   "cell_type": "code",
   "execution_count": 103,
   "metadata": {},
   "outputs": [],
   "source": [
    "theta = np.linspace(0,2*pi,50)\n",
    "\n",
    "theta[-1] == 2*pi\n",
    "\n",
    "x = 100 * np.cos(theta)\n",
    "\n",
    "y = 50 * np.sin(theta)\n",
    "\n",
    "area = geom.Area()\n",
    "curve = geom.Curve()\n",
    "for i in range(x.shape[0]-1):\n",
    "    curve.Append(geom.Point(x[i],y[i]))\n",
    "area.Append(curve)"
   ]
  },
  {
   "cell_type": "code",
   "execution_count": 265,
   "metadata": {},
   "outputs": [
    {
     "data": {
      "text/plain": [
       "[<geom.Curve at 0x7fc9fdb51ab0>]"
      ]
     },
     "execution_count": 265,
     "metadata": {},
     "output_type": "execute_result"
    }
   ],
   "source": [
    "radius = 5\n",
    "extra_offset = 0\n",
    "stepover = radius * 2 * 0.5\n",
    "from_center = True\n",
    "mode = geom.PocketMode.SpiralPocketMode\n",
    "only_cut_first_offset = True\n",
    "zig_zag_angle = 45.0\n",
    "use_zig_zag = True\n",
    "\n",
    "out = geom.MakePocketToolpath(area,radius,extra_offset,stepover,from_center,use_zig_zag,zig_zag_angle)\n",
    "out"
   ]
  },
  {
   "cell_type": "code",
   "execution_count": 266,
   "metadata": {},
   "outputs": [],
   "source": [
    "renderer = JupyterRenderer()"
   ]
  },
  {
   "cell_type": "code",
   "execution_count": 267,
   "metadata": {},
   "outputs": [],
   "source": [
    "vecs = []\n",
    "for curve in out:\n",
    "    for vertex in curve.GetVertices():\n",
    "        vecs.append(gp_Vec(vertex.p.x,vertex.p.y,0))\n",
    "\n",
    "edges = []\n",
    "v = vecs[0]\n",
    "for vec in vecs:\n",
    "    dist = (vec - v).Magnitude()\n",
    "    if dist > 1e-6:\n",
    "        me = BRepBuilderAPI_MakeEdge(gp_Pnt(v.XYZ()),gp_Pnt(vec.XYZ()))\n",
    "        edges.append(me.Edge())\n",
    "        v = vec\n",
    "        \n",
    "mw = BRepBuilderAPI_MakeWire()\n",
    "for edge in edges:\n",
    "    mw.Add(edge)\n",
    "wire = mw.Wire()"
   ]
  },
  {
   "cell_type": "code",
   "execution_count": 268,
   "metadata": {},
   "outputs": [],
   "source": [
    "renderer.DisplayShape(wire)"
   ]
  },
  {
   "cell_type": "code",
   "execution_count": 269,
   "metadata": {},
   "outputs": [
    {
     "data": {
      "application/vnd.jupyter.widget-view+json": {
       "model_id": "7228c38304594ea8844e7af06cd73d2f",
       "version_major": 2,
       "version_minor": 0
      },
      "text/plain": [
       "HBox(children=(VBox(children=(HBox(children=(Checkbox(value=True, description='Axes', layout=Layout(height='au…"
      ]
     },
     "metadata": {},
     "output_type": "display_data"
    },
    {
     "data": {
      "text/plain": []
     },
     "execution_count": 269,
     "metadata": {},
     "output_type": "execute_result"
    }
   ],
   "source": [
    "renderer"
   ]
  },
  {
   "cell_type": "code",
   "execution_count": null,
   "metadata": {},
   "outputs": [],
   "source": []
  }
 ],
 "metadata": {
  "kernelspec": {
   "display_name": "Python 3",
   "language": "python",
   "name": "python3"
  },
  "language_info": {
   "codemirror_mode": {
    "name": "ipython",
    "version": 3
   },
   "file_extension": ".py",
   "mimetype": "text/x-python",
   "name": "python",
   "nbconvert_exporter": "python",
   "pygments_lexer": "ipython3",
   "version": "3.6.9"
  }
 },
 "nbformat": 4,
 "nbformat_minor": 4
}
