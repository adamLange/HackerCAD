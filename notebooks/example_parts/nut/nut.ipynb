{
 "cells": [
  {
   "cell_type": "code",
   "execution_count": 1,
   "metadata": {},
   "outputs": [],
   "source": [
    "import sys\n",
    "sys.path.append(\"/home/adam/projects/FreeCAD/build/Mod/Path\")\n",
    "import area"
   ]
  },
  {
   "cell_type": "code",
   "execution_count": 2,
   "metadata": {},
   "outputs": [],
   "source": [
    "from OCC.Core.BRepTools import breptools_Read\n",
    "from OCC.Core.TopoDS import *\n",
    "from OCC.Core.BRep import BRep_Builder\n",
    "from OCC.Core.gp import *\n",
    "from OCC.Core.BRepBuilderAPI import *\n",
    "from math import pi,degrees,radians\n",
    "from OCC.Core.BRepTools import breptools_Write\n",
    "import OCCUtils\n",
    "import OCCUtils.edge\n",
    "import numpy as np\n",
    "import OCCUtils.face\n",
    "from OCC.Core.BRepAlgoAPI import *\n",
    "from OCC.Core.BRepMesh import BRepMesh_IncrementalMesh\n",
    "from OCC.Core.BRepAdaptor import *\n",
    "import HackerCAD\n",
    "\n",
    "from OCC.Display.WebGl.jupyter_renderer import JupyterRenderer"
   ]
  },
  {
   "cell_type": "code",
   "execution_count": 3,
   "metadata": {},
   "outputs": [],
   "source": [
    "file_shape = TopoDS_Shape()\n",
    "builder = BRep_Builder()\n",
    "assert breptools_Read(file_shape,\"./chamfered_nut.brep\",builder)"
   ]
  },
  {
   "cell_type": "code",
   "execution_count": 16,
   "metadata": {},
   "outputs": [],
   "source": [
    "renderer = JupyterRenderer()"
   ]
  },
  {
   "cell_type": "code",
   "execution_count": 17,
   "metadata": {},
   "outputs": [],
   "source": [
    "if \"aligned_shape\" in locals():\n",
    "    s = aligned_shape\n",
    "else:\n",
    "    s = file_shape\n",
    "for face in OCCUtils.Topo(s).faces():\n",
    "    renderer.DisplayShape(face)"
   ]
  },
  {
   "cell_type": "code",
   "execution_count": 18,
   "metadata": {
    "collapsed": true,
    "jupyter": {
     "outputs_hidden": true
    }
   },
   "outputs": [
    {
     "data": {
      "application/vnd.jupyter.widget-view+json": {
       "model_id": "9f8040eb1b0f4e1591d463f3eeae3a4e",
       "version_major": 2,
       "version_minor": 0
      },
      "text/plain": [
       "HBox(children=(VBox(children=(HBox(children=(Checkbox(value=True, description='Axes', layout=Layout(height='au…"
      ]
     },
     "metadata": {},
     "output_type": "display_data"
    },
    {
     "data": {
      "text/plain": []
     },
     "execution_count": 18,
     "metadata": {},
     "output_type": "execute_result"
    }
   ],
   "source": [
    "renderer"
   ]
  },
  {
   "cell_type": "markdown",
   "metadata": {},
   "source": [
    "## Align the part as it is aligned on the machine"
   ]
  },
  {
   "cell_type": "code",
   "execution_count": 7,
   "metadata": {},
   "outputs": [
    {
     "name": "stdout",
     "output_type": "stream",
     "text": [
      "dy:29.643\n"
     ]
    }
   ],
   "source": [
    "# Select y+ most face (green is y)\n",
    "face = renderer.GetSelectedShape()\n",
    "face\n",
    "\n",
    "ba = BRepAdaptor_Surface(face)\n",
    "\n",
    "pln = ba.Plane()\n",
    "\n",
    "pnt = pln.Location()\n",
    "\n",
    "#  model on machine - where the model is in CAD:\n",
    "dy = 29.643 - pnt.Y()\n",
    "print(\"dy:{}\".format(dy))\n",
    "\n",
    "trsf = gp_Trsf()\n",
    "trsf.SetTranslation(gp_Vec(0,dy,0))\n",
    "mt = BRepBuilderAPI_Transform(s,trsf)\n",
    "aligned_shape = mt.Shape()"
   ]
  },
  {
   "cell_type": "code",
   "execution_count": 24,
   "metadata": {},
   "outputs": [
    {
     "data": {
      "text/plain": [
       "True"
      ]
     },
     "execution_count": 24,
     "metadata": {},
     "output_type": "execute_result"
    }
   ],
   "source": [
    "breptools_Write(aligned_shape,\"./chamfered_nut_aligned.brep\")"
   ]
  },
  {
   "cell_type": "markdown",
   "metadata": {},
   "source": [
    "## Export stl of the aligned shape to load in the [PocketNC simulator](https://sim.pocketnc.com/)"
   ]
  },
  {
   "cell_type": "code",
   "execution_count": 13,
   "metadata": {},
   "outputs": [
    {
     "data": {
      "text/plain": [
       "True"
      ]
     },
     "execution_count": 13,
     "metadata": {},
     "output_type": "execute_result"
    }
   ],
   "source": [
    "# export stl of the aligned shape for use in \n",
    "from OCC.Core.StlAPI import StlAPI_Writer\n",
    "stl_export = StlAPI_Writer()\n",
    "stl_export.Write(aligned_shape, \"./sim_shape.stl\")"
   ]
  },
  {
   "cell_type": "markdown",
   "metadata": {},
   "source": [
    "# Do Adaptive on a face"
   ]
  },
  {
   "cell_type": "code",
   "execution_count": 19,
   "metadata": {},
   "outputs": [
    {
     "data": {
      "text/plain": [
       "<class 'TopoDS_Face'>"
      ]
     },
     "execution_count": 19,
     "metadata": {},
     "output_type": "execute_result"
    }
   ],
   "source": [
    "# select a face to do an adaptive pocketing operation\n",
    "face = renderer.GetSelectedShape()\n",
    "face"
   ]
  },
  {
   "cell_type": "code",
   "execution_count": 20,
   "metadata": {},
   "outputs": [],
   "source": [
    "a2d = HackerCAD.Adaptive2d(face)\n",
    "a2d.step_over_factor = 0.5\n",
    "a2d.tool_diameter = 25.4 / 32.0\n",
    "a2d.helix_diameter = a2d.tool_diameter * 0.5\n",
    "a2d.helix_angle = 60.0\n",
    "a2d.flip_ax_dir()\n",
    "a2d.tolerance = 1e-3\n",
    "a2d.stockToLeave = 0.0\n",
    "a2d.z_clearance = 4.0\n",
    "a2d.z_link_clear = 0.5\n",
    "a2d.cut_depths = [1.0,0.0]"
   ]
  },
  {
   "cell_type": "code",
   "execution_count": 21,
   "metadata": {},
   "outputs": [
    {
     "name": "stdout",
     "output_type": "stream",
     "text": [
      "len(a2d_output): 1\n",
      "helix center point\n",
      "helix center point\n"
     ]
    }
   ],
   "source": [
    "wire = a2d.compute()"
   ]
  },
  {
   "cell_type": "code",
   "execution_count": 22,
   "metadata": {},
   "outputs": [],
   "source": [
    "renderer.DisplayShape(wire)"
   ]
  },
  {
   "cell_type": "code",
   "execution_count": 11,
   "metadata": {},
   "outputs": [
    {
     "data": {
      "text/plain": [
       "True"
      ]
     },
     "execution_count": 11,
     "metadata": {},
     "output_type": "execute_result"
    }
   ],
   "source": [
    "breptools_Write(a2d.comp,\"/tmp/bla.brep\")"
   ]
  },
  {
   "cell_type": "code",
   "execution_count": 12,
   "metadata": {},
   "outputs": [],
   "source": [
    "pp = HackerCAD.PostProcessor()"
   ]
  },
  {
   "cell_type": "code",
   "execution_count": 13,
   "metadata": {},
   "outputs": [],
   "source": [
    "motions_gcode = \"\"\n",
    "for motions in a2d.motions:\n",
    "    motions_gcode += pp.process(motions)"
   ]
  },
  {
   "cell_type": "code",
   "execution_count": 14,
   "metadata": {},
   "outputs": [],
   "source": [
    "gcode = \"\"\n",
    "gcode += \"G90 G21 G54\\n\"\n",
    "gcode += \"M6 T1 G43 H1\\n\"\n",
    "gcode += \"G93\\n\"\n",
    "gcode += \"M3 S21390\\n\"\n",
    "gcode +=  motions_gcode\n",
    "gcode += \"G94\\n\"\n",
    "gcode += \"G91 G0 Z10\\n\"\n",
    "gcode += \"G90\\n\"\n",
    "gcode += \"M5\\n\"\n",
    "gcode += \"M2\\n\"\n",
    "\n",
    "f = open(\"/tmp/bla.ngc\",\"w\")\n",
    "f.write(gcode)\n",
    "f.close()"
   ]
  },
  {
   "cell_type": "markdown",
   "metadata": {},
   "source": [
    "# Try to use adaptive to finish largest ID"
   ]
  },
  {
   "cell_type": "code",
   "execution_count": 49,
   "metadata": {},
   "outputs": [
    {
     "data": {
      "text/plain": [
       "<class 'TopoDS_Face'>"
      ]
     },
     "execution_count": 49,
     "metadata": {},
     "output_type": "execute_result"
    }
   ],
   "source": [
    "# select the step face inside\n",
    "face = renderer.GetSelectedShape()\n",
    "face"
   ]
  },
  {
   "cell_type": "code",
   "execution_count": 50,
   "metadata": {},
   "outputs": [],
   "source": [
    "bac = BRepAdaptor_Surface(face)"
   ]
  },
  {
   "cell_type": "code",
   "execution_count": 51,
   "metadata": {},
   "outputs": [],
   "source": [
    "pln = bac.Plane()"
   ]
  },
  {
   "cell_type": "code",
   "execution_count": 52,
   "metadata": {},
   "outputs": [
    {
     "name": "stdout",
     "output_type": "stream",
     "text": [
      "0.0 6.28318530717959 6.3999999999999995\n",
      "0.0 6.28318530717959 8.149999999999999\n",
      "selected edge with radius = 8.149999999999999\n"
     ]
    }
   ],
   "source": [
    "od_edge = None\n",
    "max_r = 0.0\n",
    "for edge in OCCUtils.Topo(face).edges():\n",
    "    c = BRepAdaptor_Curve(edge)\n",
    "    circ = c.Circle()\n",
    "    r = circ.Radius()\n",
    "    if r > max_r:\n",
    "        od_edge = edge\n",
    "        max_r = r\n",
    "    print(c.FirstParameter(),c.LastParameter(),circ.Radius())\n",
    "print(\"selected edge with radius = {}\".format(max_r))\n",
    "    "
   ]
  },
  {
   "cell_type": "code",
   "execution_count": 53,
   "metadata": {},
   "outputs": [],
   "source": [
    "mw = BRepBuilderAPI_MakeWire()\n",
    "mw.Add(od_edge)\n",
    "wire = mw.Wire()\n",
    "\n",
    "mf = BRepBuilderAPI_MakeFace(wire)\n",
    "adaptive_face = mf.Face()"
   ]
  },
  {
   "cell_type": "code",
   "execution_count": 54,
   "metadata": {},
   "outputs": [],
   "source": [
    "renderer.DisplayShape(adaptive_face)"
   ]
  },
  {
   "cell_type": "code",
   "execution_count": 14,
   "metadata": {},
   "outputs": [
    {
     "data": {
      "text/plain": [
       "<class 'TopoDS_Face'>"
      ]
     },
     "execution_count": 14,
     "metadata": {},
     "output_type": "execute_result"
    }
   ],
   "source": [
    "adaptive_face"
   ]
  },
  {
   "cell_type": "code",
   "execution_count": 136,
   "metadata": {},
   "outputs": [
    {
     "data": {
      "text/plain": [
       "<class 'TopoDS_Wire'>"
      ]
     },
     "execution_count": 136,
     "metadata": {},
     "output_type": "execute_result"
    }
   ],
   "source": [
    "wire"
   ]
  },
  {
   "cell_type": "code",
   "execution_count": 14,
   "metadata": {},
   "outputs": [],
   "source": [
    "#renderer.DisplayShape(wire)"
   ]
  },
  {
   "cell_type": "code",
   "execution_count": 55,
   "metadata": {},
   "outputs": [],
   "source": [
    "a2d = HackerCAD.Adaptive2d(adaptive_face)"
   ]
  },
  {
   "cell_type": "code",
   "execution_count": 56,
   "metadata": {},
   "outputs": [],
   "source": [
    "a2d.step_over_factor = 0.15"
   ]
  },
  {
   "cell_type": "code",
   "execution_count": 57,
   "metadata": {},
   "outputs": [],
   "source": [
    "a2d.tool_diameter = 25.4 / 16.0"
   ]
  },
  {
   "cell_type": "code",
   "execution_count": 58,
   "metadata": {},
   "outputs": [],
   "source": [
    "a2d.helix_diameter = a2d.tool_diameter * 0.75"
   ]
  },
  {
   "cell_type": "code",
   "execution_count": 59,
   "metadata": {},
   "outputs": [],
   "source": [
    "a2d.helix_angle = 60.0"
   ]
  },
  {
   "cell_type": "code",
   "execution_count": 60,
   "metadata": {},
   "outputs": [],
   "source": [
    "a2d.flip_ax_dir()"
   ]
  },
  {
   "cell_type": "code",
   "execution_count": 61,
   "metadata": {},
   "outputs": [],
   "source": [
    "a2d.z_lift_distance = 0.0"
   ]
  },
  {
   "cell_type": "code",
   "execution_count": 62,
   "metadata": {},
   "outputs": [],
   "source": [
    "a2d.tolerance = 1e-3"
   ]
  },
  {
   "cell_type": "code",
   "execution_count": 63,
   "metadata": {},
   "outputs": [
    {
     "name": "stdout",
     "output_type": "stream",
     "text": [
      "helix center point\n",
      "skipped a point because |v_next - v_now| <= 1e-9\n",
      "x:0.53, y:7.327\n",
      "skipped a point because |v_next - v_now| <= 1e-9\n",
      "x:0.515, y:7.327\n",
      "skipped a point because |v_next - v_now| <= 1e-9\n",
      "x:0.339, y:7.337\n",
      "skipped a point because |v_next - v_now| <= 1e-9\n",
      "x:0.182, y:7.343\n",
      "skipped a point because |v_next - v_now| <= 1e-9\n",
      "x:-0.594, y:7.32\n",
      "skipped a point because |v_next - v_now| <= 1e-9\n",
      "x:-0.767, y:7.303\n",
      "skipped a point because |v_next - v_now| <= 1e-9\n",
      "x:-3.14, y:-6.64\n",
      "skipped a point because |v_next - v_now| <= 1e-9\n",
      "x:-2.73, y:-6.819\n",
      "skipped a point because |v_next - v_now| <= 1e-9\n",
      "x:-2.67, y:-6.844\n",
      "skipped a point because |v_next - v_now| <= 1e-9\n",
      "x:0.532, y:-7.325\n",
      "skipped a point because |v_next - v_now| <= 1e-9\n",
      "x:0.562, y:-7.323\n",
      "skipped a point because |v_next - v_now| <= 1e-9\n",
      "x:6.42, y:-3.567\n",
      "skipped a point because |v_next - v_now| <= 1e-9\n",
      "x:6.512, y:-3.396\n",
      "skipped a point because |v_next - v_now| <= 1e-9\n",
      "x:6.523, y:-3.374\n",
      "skipped a point because |v_next - v_now| <= 1e-9\n",
      "x:6.539, y:-3.366\n",
      "skipped a point because |v_next - v_now| <= 1e-9\n",
      "x:6.552, y:-3.345\n",
      "skipped a point because |v_next - v_now| <= 1e-9\n",
      "x:6.552, y:-3.345\n"
     ]
    }
   ],
   "source": [
    "wire = a2d.compute()"
   ]
  },
  {
   "cell_type": "code",
   "execution_count": 64,
   "metadata": {},
   "outputs": [],
   "source": [
    "renderer.DisplayShape(wire)"
   ]
  },
  {
   "cell_type": "code",
   "execution_count": 65,
   "metadata": {},
   "outputs": [],
   "source": [
    "pp = HackerCAD.PostProcessor()"
   ]
  },
  {
   "cell_type": "code",
   "execution_count": 66,
   "metadata": {},
   "outputs": [],
   "source": [
    "gcode = \"\"\n",
    "gcode += \"G90 G21 G55\\n\"\n",
    "gcode += \"M6 T1 G43 H1\\n\"\n",
    "gcode += \"G93\\n\"\n",
    "gcode += pp.process(a2d.motions)\n",
    "gcode += \"G94\\n\"\n",
    "gcode += \"M2\\n\""
   ]
  },
  {
   "cell_type": "code",
   "execution_count": 67,
   "metadata": {},
   "outputs": [],
   "source": [
    "f = open(\"/tmp/bla.ngc\",\"w\")\n",
    "f.write(gcode)\n",
    "f.close()"
   ]
  },
  {
   "cell_type": "markdown",
   "metadata": {},
   "source": [
    "# Create a toolpath to finish the largest ID"
   ]
  },
  {
   "cell_type": "code",
   "execution_count": 21,
   "metadata": {},
   "outputs": [],
   "source": [
    "# select axial face inside the id in renderer\n",
    "face = renderer.GetSelectedShape()"
   ]
  },
  {
   "cell_type": "code",
   "execution_count": 22,
   "metadata": {},
   "outputs": [],
   "source": [
    "ren = JupyterRenderer()"
   ]
  },
  {
   "cell_type": "code",
   "execution_count": 23,
   "metadata": {},
   "outputs": [],
   "source": [
    "for edge in OCCUtils.Topo(face).edges():\n",
    "    ren.DisplayShape(edge)"
   ]
  },
  {
   "cell_type": "code",
   "execution_count": 24,
   "metadata": {},
   "outputs": [
    {
     "data": {
      "application/vnd.jupyter.widget-view+json": {
       "model_id": "451ae7c1268b4479a09569604b902b4b",
       "version_major": 2,
       "version_minor": 0
      },
      "text/plain": [
       "HBox(children=(VBox(children=(HBox(children=(Checkbox(value=True, description='Axes', layout=Layout(height='au…"
      ]
     },
     "metadata": {},
     "output_type": "display_data"
    },
    {
     "data": {
      "text/plain": []
     },
     "execution_count": 24,
     "metadata": {},
     "output_type": "execute_result"
    }
   ],
   "source": [
    "ren"
   ]
  },
  {
   "cell_type": "code",
   "execution_count": 25,
   "metadata": {},
   "outputs": [
    {
     "data": {
      "text/plain": [
       "<class 'TopoDS_Edge'>"
      ]
     },
     "execution_count": 25,
     "metadata": {},
     "output_type": "execute_result"
    }
   ],
   "source": [
    "# select the outside edge\n",
    "outer_edge = ren.GetSelectedShape()\n",
    "outer_edge"
   ]
  },
  {
   "cell_type": "code",
   "execution_count": 26,
   "metadata": {},
   "outputs": [
    {
     "data": {
      "text/plain": [
       "<class 'TopoDS_Edge'>"
      ]
     },
     "execution_count": 26,
     "metadata": {},
     "output_type": "execute_result"
    }
   ],
   "source": [
    "# select the inside edge\n",
    "inner_edge = ren.GetSelectedShape()\n",
    "inner_edge"
   ]
  },
  {
   "cell_type": "code",
   "execution_count": 27,
   "metadata": {},
   "outputs": [],
   "source": [
    "# Making the circle that will be the tool tip path\n",
    "bac = BRepAdaptor_Curve(outer_edge)\n",
    "circ = bac.Circle()\n",
    "\n",
    "bac = BRepAdaptor_Curve(inner_edge)\n",
    "circ_inner = bac.Circle()\n",
    "\n",
    "tool_diameter = 25.4 / 8.0\n",
    "axis = gp_Ax2(circ.Location(),circ.Axis().Reversed().Direction(),circ.XAxis().Direction())\n",
    "new_circ = gp_Circ(axis,circ.Radius()-tool_diameter/2)\n",
    "me = BRepBuilderAPI_MakeEdge(new_circ)\n",
    "tool_tip_edge = me.Edge()\n",
    "\n",
    "# corresponding shank path\n",
    "trsf = gp_Trsf()\n",
    "trsf.SetTranslation(gp_Vec(0,1,0))\n",
    "mt = BRepBuilderAPI_Transform(tool_tip_edge,trsf)\n",
    "tool_shank_edge = mt.Shape()"
   ]
  },
  {
   "cell_type": "code",
   "execution_count": 28,
   "metadata": {},
   "outputs": [
    {
     "data": {
      "text/plain": [
       "17.299999999999997"
      ]
     },
     "execution_count": 28,
     "metadata": {},
     "output_type": "execute_result"
    }
   ],
   "source": [
    "circ.Radius()*2"
   ]
  },
  {
   "cell_type": "code",
   "execution_count": 29,
   "metadata": {},
   "outputs": [
    {
     "data": {
      "text/plain": [
       "0.5"
      ]
     },
     "execution_count": 29,
     "metadata": {},
     "output_type": "execute_result"
    }
   ],
   "source": [
    "circ.Radius() - circ_inner.Radius()"
   ]
  },
  {
   "cell_type": "code",
   "execution_count": 30,
   "metadata": {},
   "outputs": [],
   "source": [
    "rm = HackerCAD.RuledMotion(tool_tip_edge,tool_shank_edge)\n",
    "rm.feedrate = 1000"
   ]
  },
  {
   "cell_type": "code",
   "execution_count": 31,
   "metadata": {},
   "outputs": [],
   "source": [
    "renderer.DisplayShape(tool_tip_edge)"
   ]
  },
  {
   "cell_type": "code",
   "execution_count": 32,
   "metadata": {},
   "outputs": [],
   "source": [
    "# making lead - in\n",
    "bac_i = BRepAdaptor_Curve(tool_tip_edge)\n",
    "p1 = bac_i.Value(0)\n",
    "p0 = gp_Pnt(0,p1.Y(),0)\n",
    "me = BRepBuilderAPI_MakeEdge(p0,p1)\n",
    "lead_in_edge = me.Edge()\n",
    "\n",
    "# corresponding shank path\n",
    "trsf = gp_Trsf()\n",
    "trsf.SetTranslation(gp_Vec(0,1,0))\n",
    "mt = BRepBuilderAPI_Transform(lead_in_edge,trsf)\n",
    "lead_in_shank_edge = mt.Shape()"
   ]
  },
  {
   "cell_type": "code",
   "execution_count": 33,
   "metadata": {},
   "outputs": [],
   "source": [
    "renderer.DisplayShape(lead_in_edge)"
   ]
  },
  {
   "cell_type": "code",
   "execution_count": 34,
   "metadata": {},
   "outputs": [],
   "source": [
    "rm_lead = HackerCAD.RuledMotion(lead_in_edge,lead_in_shank_edge)\n",
    "rm_lead.feedrate = 10"
   ]
  },
  {
   "cell_type": "code",
   "execution_count": 76,
   "metadata": {},
   "outputs": [],
   "source": [
    "pp = HackerCAD.PostProcessor()"
   ]
  },
  {
   "cell_type": "code",
   "execution_count": 114,
   "metadata": {},
   "outputs": [],
   "source": [
    "rm_gcode = pp.process([rm_lead,rm])"
   ]
  },
  {
   "cell_type": "code",
   "execution_count": 115,
   "metadata": {},
   "outputs": [],
   "source": [
    "gcode = \"\"\n",
    "gcode += \"G90 G21 G54\\n\"\n",
    "gcode += \"M6 T1 G43 H1\\n\"\n",
    "gcode += \"G93\\n\"\n",
    "gcode += \"M3 S21390\\n\"\n",
    "gcode += rm_gcode\n",
    "gcode += \"G94\\n\"\n",
    "gcode += \"G0 X0 Y0\\n\"\n",
    "gcode += \"G0 Z40\\n\"\n",
    "gcode += \"M5\\n\"\n",
    "gcode += \"M2\\n\""
   ]
  },
  {
   "cell_type": "code",
   "execution_count": 116,
   "metadata": {},
   "outputs": [],
   "source": [
    "f = open(\"/tmp/bla.ngc\",\"w\")\n",
    "f.write(gcode)\n",
    "f.close()"
   ]
  },
  {
   "cell_type": "markdown",
   "metadata": {},
   "source": [
    "# Chamfers\n",
    "## ID chamfer"
   ]
  },
  {
   "cell_type": "code",
   "execution_count": 12,
   "metadata": {},
   "outputs": [
    {
     "data": {
      "text/plain": [
       "<class 'TopoDS_Face'>"
      ]
     },
     "execution_count": 12,
     "metadata": {},
     "output_type": "execute_result"
    }
   ],
   "source": [
    "# select face to chamfer\n",
    "chamfer_face = renderer.GetSelectedShape()\n",
    "chamfer_face"
   ]
  },
  {
   "cell_type": "code",
   "execution_count": 13,
   "metadata": {},
   "outputs": [],
   "source": [
    "ren = JupyterRenderer()"
   ]
  },
  {
   "cell_type": "code",
   "execution_count": 14,
   "metadata": {},
   "outputs": [],
   "source": [
    "for edge in OCCUtils.Topo(chamfer_face).edges():\n",
    "    ren.DisplayShape(edge)"
   ]
  },
  {
   "cell_type": "code",
   "execution_count": 15,
   "metadata": {
    "collapsed": true,
    "jupyter": {
     "outputs_hidden": true
    }
   },
   "outputs": [
    {
     "data": {
      "application/vnd.jupyter.widget-view+json": {
       "model_id": "fbb5aa3d2fc048038a2a4c1348f1f019",
       "version_major": 2,
       "version_minor": 0
      },
      "text/plain": [
       "HBox(children=(VBox(children=(HBox(children=(Checkbox(value=True, description='Axes', layout=Layout(height='au…"
      ]
     },
     "metadata": {},
     "output_type": "display_data"
    },
    {
     "data": {
      "text/plain": []
     },
     "execution_count": 15,
     "metadata": {},
     "output_type": "execute_result"
    }
   ],
   "source": [
    "ren"
   ]
  },
  {
   "cell_type": "code",
   "execution_count": 16,
   "metadata": {},
   "outputs": [
    {
     "data": {
      "text/plain": [
       "<class 'TopoDS_Edge'>"
      ]
     },
     "execution_count": 16,
     "metadata": {},
     "output_type": "execute_result"
    }
   ],
   "source": [
    "# select tool tip edge\n",
    "tip_edge = ren.GetSelectedShape()\n",
    "tip_edge"
   ]
  },
  {
   "cell_type": "code",
   "execution_count": 17,
   "metadata": {},
   "outputs": [
    {
     "data": {
      "text/plain": [
       "<class 'TopoDS_Edge'>"
      ]
     },
     "execution_count": 17,
     "metadata": {},
     "output_type": "execute_result"
    }
   ],
   "source": [
    "# select tool shank edge \n",
    "shank_edge = ren.GetSelectedShape()\n",
    "shank_edge"
   ]
  },
  {
   "cell_type": "code",
   "execution_count": 30,
   "metadata": {},
   "outputs": [],
   "source": [
    "rm_chamfer_1 = HackerCAD.RuledMotion(tip_edge,shank_edge)\n",
    "rm_chamfer_1.feedrate = 1000\n",
    "rm_chamfer_1.surface_normal_offset = 25.4 / 16.0\n",
    "rm_chamfer_1.tool_axis_offset = 1.0"
   ]
  },
  {
   "cell_type": "code",
   "execution_count": 35,
   "metadata": {},
   "outputs": [],
   "source": [
    "# creating a lead in\n",
    "lead_in_distance = 10.0\n",
    "rm_chamfer_1.surface_normal_offset += lead_in_distance\n",
    "v_tip_0,v_shank_0 = rm_chamfer_1.evaluate(0)\n",
    "\n",
    "rm_chamfer_1.surface_normal_offset -= lead_in_distance\n",
    "v_tip_1,v_shank_1 = rm_chamfer_1.evaluate(0)\n",
    "\n",
    "me = BRepBuilderAPI_MakeEdge(\n",
    "    gp_Pnt(v_tip_0.XYZ()),\n",
    "    gp_Pnt(v_tip_1.XYZ()))\n",
    "tip_lead_in_edge = me.Edge()\n",
    "\n",
    "trsf = gp_Trsf()\n",
    "trsf.SetTranslation(v_shank_0)\n",
    "\n",
    "mt = BRepBuilderAPI_Transform(tip_lead_in_edge,trsf)\n",
    "shank_lead_in_edge = mt.Shape()"
   ]
  },
  {
   "cell_type": "code",
   "execution_count": 37,
   "metadata": {},
   "outputs": [],
   "source": [
    "lead_motion = HackerCAD.RuledMotion(tip_lead_in_edge,shank_lead_in_edge)\n",
    "lead_motion.feedrate = 100"
   ]
  },
  {
   "cell_type": "code",
   "execution_count": 21,
   "metadata": {},
   "outputs": [],
   "source": [
    "pp = HackerCAD.PostProcessor()"
   ]
  },
  {
   "cell_type": "code",
   "execution_count": 38,
   "metadata": {},
   "outputs": [],
   "source": [
    "rm_gcode = pp.process([lead_motion,rm_chamfer_1])"
   ]
  },
  {
   "cell_type": "code",
   "execution_count": 39,
   "metadata": {},
   "outputs": [],
   "source": [
    "gcode = \"\"\n",
    "gcode += \"G90 G21 G54\\n\"\n",
    "gcode += \"M6 T1 G43 H1\\n\"\n",
    "gcode += \"G93\\n\"\n",
    "gcode += \"M3 S21390\\n\"\n",
    "gcode += rm_gcode\n",
    "gcode += \"G94\\n\"\n",
    "gcode += \"G91 G0 Y10\\n\"\n",
    "gcode += \"G90\\n\"\n",
    "gcode += \"G0 Z40\\n\"\n",
    "gcode += \"M5\\n\"\n",
    "gcode += \"M2\\n\""
   ]
  },
  {
   "cell_type": "code",
   "execution_count": 40,
   "metadata": {},
   "outputs": [],
   "source": [
    "f = open(\"/tmp/bla.ngc\",\"w\")\n",
    "f.write(gcode)\n",
    "f.close()"
   ]
  },
  {
   "cell_type": "markdown",
   "metadata": {},
   "source": [
    "## OD chamfer"
   ]
  },
  {
   "cell_type": "code",
   "execution_count": 18,
   "metadata": {},
   "outputs": [
    {
     "data": {
      "text/plain": [
       "<class 'TopoDS_Face'>"
      ]
     },
     "execution_count": 18,
     "metadata": {},
     "output_type": "execute_result"
    }
   ],
   "source": [
    "# select face to chamfer\n",
    "chamfer_face = renderer.GetSelectedShape()\n",
    "chamfer_face"
   ]
  },
  {
   "cell_type": "code",
   "execution_count": 19,
   "metadata": {},
   "outputs": [],
   "source": [
    "ren = JupyterRenderer()"
   ]
  },
  {
   "cell_type": "code",
   "execution_count": 20,
   "metadata": {},
   "outputs": [],
   "source": [
    "for edge in OCCUtils.Topo(chamfer_face).edges():\n",
    "    ren.DisplayShape(edge)"
   ]
  },
  {
   "cell_type": "code",
   "execution_count": 21,
   "metadata": {},
   "outputs": [
    {
     "data": {
      "application/vnd.jupyter.widget-view+json": {
       "model_id": "6c4dd942457a4c98ac259d39a0e713aa",
       "version_major": 2,
       "version_minor": 0
      },
      "text/plain": [
       "HBox(children=(VBox(children=(HBox(children=(Checkbox(value=True, description='Axes', layout=Layout(height='au…"
      ]
     },
     "metadata": {},
     "output_type": "display_data"
    },
    {
     "data": {
      "text/plain": []
     },
     "execution_count": 21,
     "metadata": {},
     "output_type": "execute_result"
    }
   ],
   "source": [
    "ren"
   ]
  },
  {
   "cell_type": "code",
   "execution_count": 22,
   "metadata": {},
   "outputs": [
    {
     "data": {
      "text/plain": [
       "<class 'TopoDS_Edge'>"
      ]
     },
     "execution_count": 22,
     "metadata": {},
     "output_type": "execute_result"
    }
   ],
   "source": [
    "# select tool tip edge (outside edge)\n",
    "tip_edge = ren.GetSelectedShape()\n",
    "tip_edge"
   ]
  },
  {
   "cell_type": "code",
   "execution_count": 23,
   "metadata": {},
   "outputs": [
    {
     "data": {
      "text/plain": [
       "<class 'TopoDS_Edge'>"
      ]
     },
     "execution_count": 23,
     "metadata": {},
     "output_type": "execute_result"
    }
   ],
   "source": [
    "# select tool shank edge  (inside edge)\n",
    "shank_edge = ren.GetSelectedShape()\n",
    "shank_edge"
   ]
  },
  {
   "cell_type": "code",
   "execution_count": 24,
   "metadata": {},
   "outputs": [],
   "source": [
    "rm_chamfer_1 = HackerCAD.RuledMotion(tip_edge,shank_edge)\n",
    "rm_chamfer_1.feedrate = 1000\n",
    "rm_chamfer_1.surface_normal_offset = -25.4 / 16.0\n",
    "rm_chamfer_1.tool_axis_offset = 1.0"
   ]
  },
  {
   "cell_type": "code",
   "execution_count": 25,
   "metadata": {},
   "outputs": [],
   "source": [
    "# creating a lead in\n",
    "lead_in_distance = -10.0\n",
    "rm_chamfer_1.surface_normal_offset += lead_in_distance\n",
    "v_tip_0,v_shank_0 = rm_chamfer_1.evaluate(0)\n",
    "\n",
    "rm_chamfer_1.surface_normal_offset -= lead_in_distance\n",
    "v_tip_1,v_shank_1 = rm_chamfer_1.evaluate(0)\n",
    "\n",
    "me = BRepBuilderAPI_MakeEdge(\n",
    "    gp_Pnt(v_tip_0.XYZ()),\n",
    "    gp_Pnt(v_tip_1.XYZ()))\n",
    "tip_lead_in_edge = me.Edge()\n",
    "\n",
    "trsf = gp_Trsf()\n",
    "trsf.SetTranslation(v_shank_0)\n",
    "\n",
    "mt = BRepBuilderAPI_Transform(tip_lead_in_edge,trsf)\n",
    "shank_lead_in_edge = mt.Shape()"
   ]
  },
  {
   "cell_type": "code",
   "execution_count": 26,
   "metadata": {},
   "outputs": [],
   "source": [
    "lead_motion = HackerCAD.RuledMotion(tip_lead_in_edge,shank_lead_in_edge)\n",
    "lead_motion.feedrate = 100"
   ]
  },
  {
   "cell_type": "code",
   "execution_count": 27,
   "metadata": {},
   "outputs": [],
   "source": [
    "pp = HackerCAD.PostProcessor()"
   ]
  },
  {
   "cell_type": "code",
   "execution_count": 28,
   "metadata": {},
   "outputs": [],
   "source": [
    "rm_gcode = pp.process([lead_motion,rm_chamfer_1])"
   ]
  },
  {
   "cell_type": "code",
   "execution_count": 29,
   "metadata": {},
   "outputs": [],
   "source": [
    "gcode = \"\"\n",
    "gcode += \"G90 G21 G54\\n\"\n",
    "gcode += \"M6 T1 G43 H1\\n\"\n",
    "gcode += \"G93\\n\"\n",
    "gcode += \"M3 S21390\\n\"\n",
    "gcode += rm_gcode\n",
    "gcode += \"G94\\n\"\n",
    "gcode += \"G91 G0 Y10\\n\"\n",
    "gcode += \"G90\\n\"\n",
    "gcode += \"G0 Z40\\n\"\n",
    "gcode += \"M5\\n\"\n",
    "gcode += \"M2\\n\""
   ]
  },
  {
   "cell_type": "code",
   "execution_count": 30,
   "metadata": {},
   "outputs": [],
   "source": [
    "f = open(\"/tmp/bla.ngc\",\"w\")\n",
    "f.write(gcode)\n",
    "f.close()"
   ]
  },
  {
   "cell_type": "code",
   "execution_count": null,
   "metadata": {},
   "outputs": [],
   "source": []
  },
  {
   "cell_type": "markdown",
   "metadata": {},
   "source": [
    "## OD chamfer, hex side"
   ]
  },
  {
   "cell_type": "code",
   "execution_count": 31,
   "metadata": {},
   "outputs": [
    {
     "data": {
      "text/plain": [
       "<class 'TopoDS_Face'>"
      ]
     },
     "execution_count": 31,
     "metadata": {},
     "output_type": "execute_result"
    }
   ],
   "source": [
    "# select face to chamfer\n",
    "chamfer_face = renderer.GetSelectedShape()\n",
    "chamfer_face"
   ]
  },
  {
   "cell_type": "code",
   "execution_count": 32,
   "metadata": {},
   "outputs": [],
   "source": [
    "ren = JupyterRenderer()"
   ]
  },
  {
   "cell_type": "code",
   "execution_count": 33,
   "metadata": {},
   "outputs": [],
   "source": [
    "for edge in OCCUtils.Topo(chamfer_face).edges():\n",
    "    ren.DisplayShape(edge)"
   ]
  },
  {
   "cell_type": "code",
   "execution_count": 34,
   "metadata": {},
   "outputs": [
    {
     "data": {
      "application/vnd.jupyter.widget-view+json": {
       "model_id": "0d3c0da7d003473c80f28226f9ec85f6",
       "version_major": 2,
       "version_minor": 0
      },
      "text/plain": [
       "HBox(children=(VBox(children=(HBox(children=(Checkbox(value=True, description='Axes', layout=Layout(height='au…"
      ]
     },
     "metadata": {},
     "output_type": "display_data"
    },
    {
     "data": {
      "text/plain": []
     },
     "execution_count": 34,
     "metadata": {},
     "output_type": "execute_result"
    }
   ],
   "source": [
    "ren"
   ]
  },
  {
   "cell_type": "code",
   "execution_count": 35,
   "metadata": {},
   "outputs": [
    {
     "data": {
      "text/plain": [
       "<class 'TopoDS_Edge'>"
      ]
     },
     "execution_count": 35,
     "metadata": {},
     "output_type": "execute_result"
    }
   ],
   "source": [
    "# select tool tip edge (inside edge)\n",
    "tip_edge = ren.GetSelectedShape()\n",
    "tip_edge"
   ]
  },
  {
   "cell_type": "code",
   "execution_count": 36,
   "metadata": {},
   "outputs": [
    {
     "data": {
      "text/plain": [
       "<class 'TopoDS_Edge'>"
      ]
     },
     "execution_count": 36,
     "metadata": {},
     "output_type": "execute_result"
    }
   ],
   "source": [
    "# select tool shank edge  (outside edge)\n",
    "shank_edge = ren.GetSelectedShape()\n",
    "shank_edge"
   ]
  },
  {
   "cell_type": "code",
   "execution_count": 44,
   "metadata": {},
   "outputs": [],
   "source": [
    "rm_chamfer_1 = HackerCAD.RuledMotion(tip_edge,shank_edge)\n",
    "rm_chamfer_1.feedrate = 1000\n",
    "rm_chamfer_1.surface_normal_offset = -25.4 / 16.0\n",
    "rm_chamfer_1.tool_axis_offset = 0.4"
   ]
  },
  {
   "cell_type": "code",
   "execution_count": 45,
   "metadata": {},
   "outputs": [],
   "source": [
    "# creating a lead in\n",
    "lead_in_distance = -10.0\n",
    "rm_chamfer_1.surface_normal_offset += lead_in_distance\n",
    "v_tip_0,v_shank_0 = rm_chamfer_1.evaluate(0)\n",
    "\n",
    "rm_chamfer_1.surface_normal_offset -= lead_in_distance\n",
    "v_tip_1,v_shank_1 = rm_chamfer_1.evaluate(0)\n",
    "\n",
    "me = BRepBuilderAPI_MakeEdge(\n",
    "    gp_Pnt(v_tip_0.XYZ()),\n",
    "    gp_Pnt(v_tip_1.XYZ()))\n",
    "tip_lead_in_edge = me.Edge()\n",
    "\n",
    "trsf = gp_Trsf()\n",
    "trsf.SetTranslation(v_shank_0)\n",
    "\n",
    "mt = BRepBuilderAPI_Transform(tip_lead_in_edge,trsf)\n",
    "shank_lead_in_edge = mt.Shape()"
   ]
  },
  {
   "cell_type": "code",
   "execution_count": 46,
   "metadata": {},
   "outputs": [],
   "source": [
    "lead_motion = HackerCAD.RuledMotion(tip_lead_in_edge,shank_lead_in_edge)\n",
    "lead_motion.feedrate = 100"
   ]
  },
  {
   "cell_type": "code",
   "execution_count": 47,
   "metadata": {},
   "outputs": [],
   "source": [
    "pp = HackerCAD.PostProcessor()"
   ]
  },
  {
   "cell_type": "code",
   "execution_count": 48,
   "metadata": {},
   "outputs": [],
   "source": [
    "rm_gcode = pp.process([lead_motion,rm_chamfer_1])"
   ]
  },
  {
   "cell_type": "code",
   "execution_count": 51,
   "metadata": {},
   "outputs": [],
   "source": [
    "gcode = \"\"\n",
    "gcode += \"G90 G21 G54\\n\"\n",
    "gcode += \"M6 T1 G43 H1\\n\"\n",
    "gcode += \"G93\\n\"\n",
    "gcode += \"M3 S21390\\n\"\n",
    "gcode += rm_gcode\n",
    "gcode += \"G94\\n\"\n",
    "gcode += \"G91 G0 Y-3\\n\"\n",
    "gcode += \"G90\\n\"\n",
    "gcode += \"G0 Z40\\n\"\n",
    "gcode += \"M5\\n\"\n",
    "gcode += \"M2\\n\""
   ]
  },
  {
   "cell_type": "code",
   "execution_count": 52,
   "metadata": {},
   "outputs": [],
   "source": [
    "f = open(\"/tmp/bla.ngc\",\"w\")\n",
    "f.write(gcode)\n",
    "f.close()"
   ]
  },
  {
   "cell_type": "markdown",
   "metadata": {},
   "source": [
    "# Thread"
   ]
  },
  {
   "cell_type": "code",
   "execution_count": 382,
   "metadata": {},
   "outputs": [],
   "source": [
    "from math import sin,atan,pi\n",
    "from OCC.Core.GCE2d import *\n",
    "from OCC.Core.Geom import *"
   ]
  },
  {
   "cell_type": "code",
   "execution_count": 383,
   "metadata": {},
   "outputs": [
    {
     "data": {
      "text/plain": [
       "<class 'TopoDS_Face'>"
      ]
     },
     "execution_count": 383,
     "metadata": {},
     "output_type": "execute_result"
    }
   ],
   "source": [
    "# select face to thread\n",
    "thread_face = renderer.GetSelectedShape()\n",
    "thread_face"
   ]
  },
  {
   "cell_type": "code",
   "execution_count": 384,
   "metadata": {},
   "outputs": [],
   "source": [
    "bas = BRepAdaptor_Surface(thread_face)"
   ]
  },
  {
   "cell_type": "code",
   "execution_count": 385,
   "metadata": {},
   "outputs": [],
   "source": [
    "cyl = bas.Cylinder()"
   ]
  },
  {
   "cell_type": "code",
   "execution_count": 386,
   "metadata": {},
   "outputs": [
    {
     "data": {
      "text/plain": [
       "23.999999999999996"
      ]
     },
     "execution_count": 386,
     "metadata": {},
     "output_type": "execute_result"
    }
   ],
   "source": [
    "D_maj = cyl.Radius() * 2\n",
    "D_maj"
   ]
  },
  {
   "cell_type": "code",
   "execution_count": 387,
   "metadata": {},
   "outputs": [],
   "source": [
    "P = 1.5 # pitch"
   ]
  },
  {
   "cell_type": "code",
   "execution_count": 403,
   "metadata": {},
   "outputs": [],
   "source": [
    "v_start = bas.FirstVParameter() - 1.5*P\n",
    "v_end = bas.LastVParameter() + P\n",
    "delta_v = v_end - v_start"
   ]
  },
  {
   "cell_type": "code",
   "execution_count": 404,
   "metadata": {},
   "outputs": [],
   "source": [
    "dv_du = P / (2*pi)"
   ]
  },
  {
   "cell_type": "code",
   "execution_count": 405,
   "metadata": {},
   "outputs": [],
   "source": [
    "l = delta_v / sin(atan(dv_du))"
   ]
  },
  {
   "cell_type": "code",
   "execution_count": 406,
   "metadata": {},
   "outputs": [],
   "source": [
    "l2d = gp_Lin2d(gp_Pnt2d(0,v_start),\n",
    "                       gp_Dir2d(1,dv_du))"
   ]
  },
  {
   "cell_type": "code",
   "execution_count": 407,
   "metadata": {},
   "outputs": [],
   "source": [
    "#segment = GCE2d_MakeSegment(l2d,\n",
    "#                            gp_Pnt2d(0,v_start),\n",
    "#                            l)"
   ]
  },
  {
   "cell_type": "code",
   "execution_count": 408,
   "metadata": {},
   "outputs": [],
   "source": [
    "segment = GCE2d_MakeSegment(l2d,0.1,l)"
   ]
  },
  {
   "cell_type": "code",
   "execution_count": 409,
   "metadata": {},
   "outputs": [],
   "source": [
    "helix_edge = BRepBuilderAPI_MakeEdge(segment.Value(),Geom_CylindricalSurface(cyl)).Edge()"
   ]
  },
  {
   "cell_type": "code",
   "execution_count": 410,
   "metadata": {},
   "outputs": [],
   "source": [
    "renderer.DisplayShape(helix_edge)"
   ]
  },
  {
   "cell_type": "code",
   "execution_count": 424,
   "metadata": {},
   "outputs": [],
   "source": [
    "trsf = gp_Trsf()\n",
    "trsf.SetTranslation(gp_Vec(0,1,0))\n",
    "mt = BRepBuilderAPI_Transform(helix_edge,trsf)\n",
    "helix_shank_edge = mt.Shape()\n",
    "\n",
    "rm_thread = HackerCAD.RuledMotion(helix_edge,helix_shank_edge)"
   ]
  },
  {
   "cell_type": "code",
   "execution_count": 425,
   "metadata": {},
   "outputs": [],
   "source": [
    "rm_thread.surface_normal_offset = - 0.140 * 25.4 / 2"
   ]
  },
  {
   "cell_type": "code",
   "execution_count": 426,
   "metadata": {},
   "outputs": [],
   "source": [
    "rm_thread.feedrate = 1000"
   ]
  },
  {
   "cell_type": "code",
   "execution_count": 431,
   "metadata": {},
   "outputs": [],
   "source": [
    "pp = HackerCAD.PostProcessor()"
   ]
  },
  {
   "cell_type": "code",
   "execution_count": 436,
   "metadata": {},
   "outputs": [],
   "source": [
    "gcode_out = pp.process([rm_thread])"
   ]
  },
  {
   "cell_type": "code",
   "execution_count": 437,
   "metadata": {},
   "outputs": [],
   "source": [
    "gcode = \"\"\n",
    "gcode += \"G90 G21 G54\\n\"\n",
    "gcode += \"M6 T1 G43 H1\\n\"\n",
    "gcode += \"G93\\n\"\n",
    "gcode += \"M3 S21390\\n\"\n",
    "gcode +=  gcode_out\n",
    "gcode += \"G94\\n\"\n",
    "gcode += \"G91 G0 Y-3\\n\"\n",
    "gcode += \"G90\\n\"\n",
    "gcode += \"G0 Z40\\n\"\n",
    "gcode += \"M5\\n\"\n",
    "gcode += \"M2\\n\""
   ]
  },
  {
   "cell_type": "code",
   "execution_count": 438,
   "metadata": {},
   "outputs": [],
   "source": [
    "f = open(\"/tmp/bla.ngc\",\"w\")\n",
    "f.write(gcode)\n",
    "f.close()"
   ]
  },
  {
   "cell_type": "code",
   "execution_count": 15,
   "metadata": {},
   "outputs": [],
   "source": [
    "a = [1,2,3,4]"
   ]
  },
  {
   "cell_type": "code",
   "execution_count": 16,
   "metadata": {},
   "outputs": [
    {
     "data": {
      "text/plain": [
       "[2, 3, 4]"
      ]
     },
     "execution_count": 16,
     "metadata": {},
     "output_type": "execute_result"
    }
   ],
   "source": [
    "a[1:]"
   ]
  },
  {
   "cell_type": "code",
   "execution_count": null,
   "metadata": {},
   "outputs": [],
   "source": []
  },
  {
   "cell_type": "markdown",
   "metadata": {},
   "source": [
    "## Cutoff"
   ]
  },
  {
   "cell_type": "code",
   "execution_count": 19,
   "metadata": {},
   "outputs": [
    {
     "data": {
      "text/plain": [
       "<class 'TopoDS_Face'>"
      ]
     },
     "execution_count": 19,
     "metadata": {},
     "output_type": "execute_result"
    }
   ],
   "source": [
    "# select cutoff face\n",
    "chamfer_face = renderer.GetSelectedShape()\n",
    "chamfer_face"
   ]
  },
  {
   "cell_type": "code",
   "execution_count": 20,
   "metadata": {},
   "outputs": [],
   "source": [
    "ren = JupyterRenderer()"
   ]
  },
  {
   "cell_type": "code",
   "execution_count": 21,
   "metadata": {},
   "outputs": [],
   "source": [
    "for edge in OCCUtils.Topo(chamfer_face).edges():\n",
    "    ren.DisplayShape(edge)"
   ]
  },
  {
   "cell_type": "code",
   "execution_count": 22,
   "metadata": {},
   "outputs": [
    {
     "data": {
      "application/vnd.jupyter.widget-view+json": {
       "model_id": "e8b48784a2c24897a89df09b69831a7f",
       "version_major": 2,
       "version_minor": 0
      },
      "text/plain": [
       "HBox(children=(VBox(children=(HBox(children=(Checkbox(value=True, description='Axes', layout=Layout(height='au…"
      ]
     },
     "metadata": {},
     "output_type": "display_data"
    },
    {
     "data": {
      "text/plain": []
     },
     "execution_count": 22,
     "metadata": {},
     "output_type": "execute_result"
    }
   ],
   "source": [
    "ren"
   ]
  },
  {
   "cell_type": "code",
   "execution_count": 23,
   "metadata": {},
   "outputs": [
    {
     "data": {
      "text/plain": [
       "<class 'TopoDS_Edge'>"
      ]
     },
     "execution_count": 23,
     "metadata": {},
     "output_type": "execute_result"
    }
   ],
   "source": [
    "# select the circular edge\n",
    "tip_edge = ren.GetSelectedShape()\n",
    "tip_edge"
   ]
  },
  {
   "cell_type": "code",
   "execution_count": 24,
   "metadata": {},
   "outputs": [],
   "source": [
    "# create a tool shank edge\n",
    "bac = BRepAdaptor_Curve(tip_edge)\n",
    "circ = bac.Circle()\n",
    "ax = gp_Ax2(circ.Location(),circ.Axis().Direction(),circ.XAxis().Direction())\n",
    "new_circ = gp_Circ(ax,circ.Radius()+1)\n",
    "me = BRepBuilderAPI_MakeEdge(new_circ)\n",
    "shank_edge = me.Edge()"
   ]
  },
  {
   "cell_type": "code",
   "execution_count": 25,
   "metadata": {},
   "outputs": [
    {
     "data": {
      "text/plain": [
       "< gp_Ax1: location: 0.0, 14.643000000000004, 3.330669073875464e-15, direction: 0.0, -1.0, 2.22044604925031e-16 >"
      ]
     },
     "execution_count": 25,
     "metadata": {},
     "output_type": "execute_result"
    }
   ],
   "source": [
    "circ.Axis()"
   ]
  },
  {
   "cell_type": "code",
   "execution_count": 33,
   "metadata": {},
   "outputs": [],
   "source": [
    "tool_diameter = 25.4 / 16.0\n",
    "\n",
    "rm_cutoff = HackerCAD.RuledMotion(tip_edge,shank_edge)\n",
    "rm_cutoff.feedrate = 1000\n",
    "\n",
    "rm_cutoff.use_trochoidal_offset = True\n",
    "rm_cutoff.trochoidal_x = tool_diameter / 2\n",
    "rm_cutoff.trochoidal_y = tool_diameter / 4\n",
    "rm_cutoff.trochoidal_period = 0.02\n",
    "\n",
    "rm_cutoff.surface_normal_offset = - (tool_diameter / 2 + rm_cutoff.trochoidal_x)\n",
    "rm_cutoff.tool_axis_offset = 0.4"
   ]
  },
  {
   "cell_type": "code",
   "execution_count": 34,
   "metadata": {},
   "outputs": [],
   "source": [
    "pp = HackerCAD.PostProcessor()"
   ]
  },
  {
   "cell_type": "code",
   "execution_count": 35,
   "metadata": {},
   "outputs": [],
   "source": [
    "rm_gcode = pp.process([rm_cutoff])"
   ]
  },
  {
   "cell_type": "code",
   "execution_count": 36,
   "metadata": {},
   "outputs": [],
   "source": [
    "gcode = \"\"\n",
    "gcode += \"G90 G21 G54\\n\"\n",
    "gcode += \"M6 T1 G43 H1\\n\"\n",
    "gcode += \"G93\\n\"\n",
    "gcode += \"M3 S21390\\n\"\n",
    "gcode += rm_gcode\n",
    "gcode += \"G94\\n\"\n",
    "gcode += \"G91 G0 Y5\\n\"\n",
    "gcode += \"G90\\n\"\n",
    "gcode += \"G0 Z40\\n\"\n",
    "gcode += \"M5\\n\"\n",
    "gcode += \"M2\\n\""
   ]
  },
  {
   "cell_type": "code",
   "execution_count": 37,
   "metadata": {},
   "outputs": [],
   "source": [
    "f = open(\"/tmp/bla.ngc\",\"w\")\n",
    "f.write(gcode)\n",
    "f.close()"
   ]
  },
  {
   "cell_type": "code",
   "execution_count": null,
   "metadata": {},
   "outputs": [],
   "source": []
  }
 ],
 "metadata": {
  "kernelspec": {
   "display_name": "Python 3",
   "language": "python",
   "name": "python3"
  },
  "language_info": {
   "codemirror_mode": {
    "name": "ipython",
    "version": 3
   },
   "file_extension": ".py",
   "mimetype": "text/x-python",
   "name": "python",
   "nbconvert_exporter": "python",
   "pygments_lexer": "ipython3",
   "version": "3.6.9"
  }
 },
 "nbformat": 4,
 "nbformat_minor": 4
}
